{
 "cells": [
  {
   "cell_type": "markdown",
   "metadata": {},
   "source": [
    "# Data exploration"
   ]
  },
  {
   "cell_type": "markdown",
   "metadata": {},
   "source": [
    "## Load paths"
   ]
  },
  {
   "cell_type": "code",
   "execution_count": null,
   "metadata": {},
   "outputs": [],
   "source": [
    "def umlaut(string):\n",
    "    if not isinstance(string, str):\n",
    "        raise TypeError(\"The oject is a \" + str(type(string)) + \", not a string!\")\n",
    "    string = string.replace(\"Ã¼\", \"ü\")\n",
    "    string = string.replace(\"Ã¤\", \"ä\")    \n",
    "    string = string.replace(\"Ã¶\", \"ö\")    \n",
    "    string = string.replace(\"Ãœ\", \"Ü\")    \n",
    "    string = string.replace(\"Ã„\", \"Ä\")    \n",
    "    string = string.replace(\"Ã–\", \"Ö\")    \n",
    "    string = string.replace(\"ÃŸ\", \"ß\")    \n",
    "    return string\n",
    "\n",
    "def replace_umlauts(dictionary):\n",
    "    try:\n",
    "        dictionary = umlaut(dictionary)\n",
    "    except TypeError:\n",
    "        copy = dictionary\n",
    "        try:\n",
    "            iteritems = dictionary.items()\n",
    "        except AttributeError:\n",
    "            iteritems = enumerate(dictionary)\n",
    "        for k, v in iteritems:\n",
    "            copy[k] = replace_umlauts(v)\n",
    "        dictionary = copy\n",
    "    return dictionary"
   ]
  },
  {
   "cell_type": "code",
   "execution_count": null,
   "metadata": {},
   "outputs": [],
   "source": [
    "import json\n",
    "\n",
    "with open('paths.json') as f:\n",
    "    data = json.load(f)\n",
    "    data = replace_umlauts(data)\n",
    "\n",
    "data"
   ]
  },
  {
   "cell_type": "code",
   "execution_count": null,
   "metadata": {},
   "outputs": [],
   "source": [
    "keywordFile = data['keywords']['file']\n",
    "keywordFile"
   ]
  },
  {
   "cell_type": "code",
   "execution_count": null,
   "metadata": {},
   "outputs": [],
   "source": [
    "dataDirs = data['data']['directory']\n",
    "dataDirs"
   ]
  },
  {
   "cell_type": "markdown",
   "metadata": {},
   "source": [
    "## Load data"
   ]
  },
  {
   "cell_type": "markdown",
   "metadata": {},
   "source": [
    "### Keywords\n",
    "Keywords are in a table in a MS word document"
   ]
  },
  {
   "cell_type": "code",
   "execution_count": null,
   "metadata": {},
   "outputs": [],
   "source": [
    "# read the first table of the docx file\n",
    "\n",
    "from docx import Document\n",
    "document = Document(keywordFile)\n",
    "table = document.tables[0]\n",
    "text = []\n",
    "for i in range(len(table.rows)):\n",
    "    text.append([])\n",
    "    for j in range(len(table.columns)):\n",
    "        text[i].append(table.rows[i].cells[j].text)\n",
    "        \n",
    "# remove header\n",
    "text = text[1:]"
   ]
  },
  {
   "cell_type": "code",
   "execution_count": null,
   "metadata": {},
   "outputs": [],
   "source": [
    "# split in English and German\n",
    "text_en = list(map(lambda x: x[2:4], text))\n",
    "text_de = list(map(lambda x: x[0:2], text))\n",
    "text_de[0]"
   ]
  },
  {
   "cell_type": "code",
   "execution_count": null,
   "metadata": {},
   "outputs": [],
   "source": [
    "def produce_dict(text):\n",
    "    dictionary = {}\n",
    "    i = 0\n",
    "    key = ''\n",
    "    for row in text:\n",
    "        word = row[0]\n",
    "        veto = row[1]\n",
    "        if word != '':\n",
    "            key = word\n",
    "            dictionary[key] = []\n",
    "        if veto != '':\n",
    "            dictionary[key].append(veto)\n",
    "    return dictionary"
   ]
  },
  {
   "cell_type": "code",
   "execution_count": null,
   "metadata": {},
   "outputs": [],
   "source": [
    "# make dictionary of pairwise keywordsusions\n",
    "keywords_de = produce_dict(text_de)\n",
    "keywords_en = produce_dict(text_en)\n",
    "keywords_de[next(iter(keywords_de))]"
   ]
  },
  {
   "cell_type": "markdown",
   "metadata": {},
   "source": [
    "### Documents\n",
    "\n",
    "Documents are drawn from URLs in MS Outlook files in zip files"
   ]
  },
  {
   "cell_type": "code",
   "execution_count": null,
   "metadata": {},
   "outputs": [],
   "source": [
    "import win32com.client\n",
    "import os\n",
    "\n",
    "outlook = win32com.client.Dispatch(\"Outlook.Application\").GetNamespace(\"MAPI\")\n",
    "\n",
    "maxMails = 5\n",
    "openMails = 0\n",
    "for directory in dataDirs:\n",
    "    for filename in os.listdir(directory):\n",
    "        openMails += 1\n",
    "        if openMails > maxMails:\n",
    "            break\n",
    "        filePath = os.path.abspath(os.path.join(directory, filename))\n",
    "        print(filePath)\n",
    "        msg = outlook.OpenSharedItem(filePath)\n",
    "        print(msg.SenderName)\n",
    "        # print(msg.Body)"
   ]
  },
  {
   "cell_type": "code",
   "execution_count": null,
   "metadata": {},
   "outputs": [],
   "source": []
  }
 ],
 "metadata": {
  "kernelspec": {
   "display_name": "Python 3",
   "language": "python",
   "name": "python3"
  },
  "language_info": {
   "codemirror_mode": {
    "name": "ipython",
    "version": 3
   },
   "file_extension": ".py",
   "mimetype": "text/x-python",
   "name": "python",
   "nbconvert_exporter": "python",
   "pygments_lexer": "ipython3",
   "version": "3.7.0"
  }
 },
 "nbformat": 4,
 "nbformat_minor": 2
}

{
 "cells": [
  {
   "cell_type": "markdown",
   "metadata": {},
   "source": [
    "# Data exploration"
   ]
  },
  {
   "cell_type": "markdown",
   "metadata": {},
   "source": [
    "## Load paths"
   ]
  },
  {
   "cell_type": "code",
   "execution_count": null,
   "metadata": {},
   "outputs": [],
   "source": [
    "def umlaut(string):\n",
    "    string += \"\"\n",
    "    string = string.replace(\"Ã¼\", \"ü\")\n",
    "    string = string.replace(\"Ã¤\", \"ä\")    \n",
    "    string = string.replace(\"Ã¶\", \"ö\")    \n",
    "    string = string.replace(\"Ãœ\", \"Ü\")    \n",
    "    string = string.replace(\"Ã„\", \"Ä\")    \n",
    "    string = string.replace(\"Ã–\", \"Ö\")    \n",
    "    string = string.replace(\"ÃŸ\", \"ß\")    \n",
    "    return string\n",
    "\n",
    "def replace_umlauts(dictionary):\n",
    "    try:\n",
    "        dictionary = umlaut(dictionary)\n",
    "    except TypeError:\n",
    "        copy = dictionary\n",
    "        for k, v in dictionary.items():\n",
    "            copy[k] = replace_umlauts(v)\n",
    "        dictionary = copy\n",
    "    return dictionary"
   ]
  },
  {
   "cell_type": "code",
   "execution_count": null,
   "metadata": {},
   "outputs": [],
   "source": [
    "import json\n",
    "\n",
    "with open('data/paths.json') as f:\n",
    "    data = json.load(f)\n",
    "    data = replace_umlauts(data)\n",
    "\n",
    "data"
   ]
  },
  {
   "cell_type": "code",
   "execution_count": null,
   "metadata": {},
   "outputs": [],
   "source": [
    "keywordFile = data['keywords']['file']\n",
    "keywordFile"
   ]
  },
  {
   "cell_type": "markdown",
   "metadata": {},
   "source": [
    "## Load data"
   ]
  },
  {
   "cell_type": "code",
   "execution_count": null,
   "metadata": {},
   "outputs": [],
   "source": [
    "from docx import Document\n",
    "document = Document(keywordFile)\n",
    "table = document.tables[0]\n",
    "cell = table.rows[0].cells[0]\n",
    "text = cell.text\n",
    "text"
   ]
  },
  {
   "cell_type": "code",
   "execution_count": null,
   "metadata": {},
   "outputs": [],
   "source": []
  }
 ],
 "metadata": {
  "kernelspec": {
   "display_name": "Python 3",
   "language": "python",
   "name": "python3"
  },
  "language_info": {
   "codemirror_mode": {
    "name": "ipython",
    "version": 3
   },
   "file_extension": ".py",
   "mimetype": "text/x-python",
   "name": "python",
   "nbconvert_exporter": "python",
   "pygments_lexer": "ipython3",
   "version": "3.7.0"
  }
 },
 "nbformat": 4,
 "nbformat_minor": 2
}
